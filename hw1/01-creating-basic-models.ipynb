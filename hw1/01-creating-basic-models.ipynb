{
 "cells": [
  {
   "cell_type": "markdown",
   "id": "0aafd500-4e6c-4f54-86fb-0e000bd06dcc",
   "metadata": {},
   "source": [
    "# Створення базових моделей"
   ]
  },
  {
   "cell_type": "markdown",
   "id": "6c115768-b336-4a31-b9eb-3ec88520226a",
   "metadata": {},
   "source": [
    "**Частина 1**\n",
    "\n",
    "Необхідно визначити в коді натупне:\n",
    "\n",
    "1. Базову модель для навчання (виберіть який тип моделі хочете натренувати CNN, MLP тощо).\n",
    "2. Початкову кількість шарів та їх параметри.\n",
    "3. Функції для тренування та валідації, візуалізації результатів, фінкцію втрат та метрику перевірки результатів.\n",
    "4. Натренуйте модель і перевірте результат. Яке значення функції втрат, яка метрика вашої моделі після навчання? Візуалізуйте графіки навчання. Скільки часу потрібно було на тренування?\n",
    "\n",
    "**Частина 2**\n",
    "\n",
    "1. Опишіть гіперпараметри моделі: кількість шарів/кількість нейронів в шарах, різні їх комбінації.\n",
    "2. Підберіть та перевірте найкращі гіперпараметри вашої моделі за яких метрика під час валідації буде найвищою. Скільки часу потрібно було на підбір гіперпараметрів моделі?\n",
    "3. Продемонструйте на яких класах та зображеннях найчастіше помиляється найкраща модель.\n",
    "4. Візуалізувати графіки залежностей між гіперпараметрами найкращої моделі і змінами значень її метрики."
   ]
  },
  {
   "cell_type": "markdown",
   "source": [
    "## Resources and references\n",
    "- [Experiment Tracking and Hyperparameter Tuning with TensorBoard in PyTorch](https://www.akshaymakes.com/blogs/experiment-tracking)\n",
    "- [Fashion MNIST with Pytorch (93% Accuracy)](https://www.kaggle.com/code/pankajj/fashion-mnist-with-pytorch-93-accuracy|)\n",
    "- [PyTorch Documentation](https://pytorch.org/docs/stable/optim.html)"
   ],
   "metadata": {
    "collapsed": false
   }
  },
  {
   "cell_type": "markdown",
   "source": [
    "## Imports and setup"
   ],
   "metadata": {
    "collapsed": false
   }
  },
  {
   "cell_type": "code",
   "execution_count": 1,
   "outputs": [
    {
     "name": "stdout",
     "output_type": "stream",
     "text": [
      "\u001B[33mWARNING: You are using pip version 21.2.4; however, version 23.3.1 is available.\r\n",
      "You should consider upgrading via the '/Library/Developer/CommandLineTools/usr/bin/python3 -m pip install --upgrade pip' command.\u001B[0m\r\n",
      "Note: you may need to restart the kernel to use updated packages.\n"
     ]
    }
   ],
   "source": [
    "%pip install -q torchinfo torchmetrics tensorboard"
   ],
   "metadata": {
    "collapsed": false,
    "ExecuteTime": {
     "start_time": "2023-11-10T15:58:58.690034Z",
     "end_time": "2023-11-10T15:59:00.095574Z"
    }
   }
  },
  {
   "cell_type": "code",
   "execution_count": 2,
   "id": "649ad8f7-0681-4ee0-aede-f9fce7035c0b",
   "metadata": {
    "ExecuteTime": {
     "start_time": "2023-11-10T15:59:00.098150Z",
     "end_time": "2023-11-10T15:59:05.182262Z"
    }
   },
   "outputs": [],
   "source": [
    "import matplotlib.pyplot as plt\n",
    "import numpy as np\n",
    "from tqdm.auto import tqdm\n",
    "import os\n",
    "from datetime import datetime\n",
    "from itertools import product\n",
    "import time\n",
    "\n",
    "import torch\n",
    "import torch.nn as nn\n",
    "import torch.nn.functional as F\n",
    "\n",
    "import torchvision.transforms as transforms\n",
    "import torchvision\n",
    "from torch.utils.data import DataLoader\n",
    "\n",
    "from torchvision.datasets import FashionMNIST\n",
    "from torchinfo import summary\n",
    "import torchmetrics\n",
    "from tqdm import tqdm\n",
    "from torch.utils.tensorboard import SummaryWriter"
   ]
  },
  {
   "cell_type": "markdown",
   "source": [
    "## Device configuration"
   ],
   "metadata": {
    "collapsed": false
   }
  },
  {
   "cell_type": "code",
   "execution_count": 3,
   "outputs": [],
   "source": [
    "def get_device():\n",
    "    if torch.backends.mps.is_available():\n",
    "        print(\"Running on the MPS\")\n",
    "        return torch.device(\"mps\")\n",
    "    if torch.cuda.is_available():\n",
    "        print(\"Running on the GPU\")\n",
    "        return torch.device(\"cuda\")\n",
    "    print(\"Running on the CPU\")\n",
    "    return torch.device(\"cpu\")"
   ],
   "metadata": {
    "collapsed": false,
    "ExecuteTime": {
     "start_time": "2023-11-10T15:59:05.183264Z",
     "end_time": "2023-11-10T15:59:05.185500Z"
    }
   }
  },
  {
   "cell_type": "code",
   "execution_count": 4,
   "outputs": [
    {
     "name": "stdout",
     "output_type": "stream",
     "text": [
      "Running on the MPS\n"
     ]
    }
   ],
   "source": [
    "device = get_device()"
   ],
   "metadata": {
    "collapsed": false,
    "ExecuteTime": {
     "start_time": "2023-11-10T15:59:05.198821Z",
     "end_time": "2023-11-10T15:59:05.201507Z"
    }
   }
  },
  {
   "cell_type": "markdown",
   "source": [
    "## Dataset"
   ],
   "metadata": {
    "collapsed": false
   }
  },
  {
   "cell_type": "markdown",
   "source": [
    "### Download train and test dataset using torchvision"
   ],
   "metadata": {
    "collapsed": false
   }
  },
  {
   "cell_type": "code",
   "execution_count": 5,
   "id": "a6e79f17-068e-4c2e-add0-7da34940ae9e",
   "metadata": {
    "ExecuteTime": {
     "start_time": "2023-11-10T15:59:05.204227Z",
     "end_time": "2023-11-10T15:59:05.243892Z"
    }
   },
   "outputs": [
    {
     "name": "stdout",
     "output_type": "stream",
     "text": [
      "Number of Images in test dataset is 10000\n",
      "Number of Images in training dataset is 60000\n"
     ]
    }
   ],
   "source": [
    "training_dataset = FashionMNIST(\"./data\", download=True, train=True, transform=\n",
    "                                                transforms.Compose([transforms.ToTensor()]))\n",
    "test_dataset = FashionMNIST(\"./data\", download=True, train=False, transform=\n",
    "                                               transforms.Compose([transforms.ToTensor()]))\n",
    "\n",
    "print(f\"Number of Images in test dataset is {len(test_dataset)}\")\n",
    "print(f\"Number of Images in training dataset is {len(training_dataset)}\")"
   ]
  },
  {
   "cell_type": "code",
   "execution_count": 6,
   "outputs": [],
   "source": [
    "BATCH_SIZE = 100\n",
    "\n",
    "train_loader = torch.utils.data.DataLoader(training_dataset,\n",
    "                                           batch_size=BATCH_SIZE)\n",
    "test_loader = torch.utils.data.DataLoader(test_dataset,\n",
    "                                          batch_size=BATCH_SIZE)"
   ],
   "metadata": {
    "collapsed": false,
    "ExecuteTime": {
     "start_time": "2023-11-10T15:59:05.225426Z",
     "end_time": "2023-11-10T15:59:05.244069Z"
    }
   }
  },
  {
   "cell_type": "markdown",
   "source": [
    "### Visualize some images"
   ],
   "metadata": {
    "collapsed": false
   }
  },
  {
   "cell_type": "code",
   "execution_count": 7,
   "outputs": [],
   "source": [
    "def output_label(label):\n",
    "    output_mapping = {\n",
    "                 0: \"T-shirt/Top\",\n",
    "                 1: \"Trouser\",\n",
    "                 2: \"Pullover\",\n",
    "                 3: \"Dress\",\n",
    "                 4: \"Coat\",\n",
    "                 5: \"Sandal\",\n",
    "                 6: \"Shirt\",\n",
    "                 7: \"Sneaker\",\n",
    "                 8: \"Bag\",\n",
    "                 9: \"Ankle Boot\"\n",
    "                 }\n",
    "    input = (label.item() if type(label) == torch.Tensor else label)\n",
    "    return output_mapping[input]"
   ],
   "metadata": {
    "collapsed": false,
    "ExecuteTime": {
     "start_time": "2023-11-10T15:59:05.228866Z",
     "end_time": "2023-11-10T15:59:05.244099Z"
    }
   }
  },
  {
   "cell_type": "code",
   "execution_count": 8,
   "outputs": [],
   "source": [
    "def imshow(img):\n",
    "    img = img / 2 + 0.5\n",
    "    npimg = img.numpy()\n",
    "    plt.figure(figsize=(10, 10))\n",
    "    plt.imshow(np.transpose(npimg, (1, 2, 0)))\n",
    "    plt.show()"
   ],
   "metadata": {
    "collapsed": false,
    "ExecuteTime": {
     "start_time": "2023-11-10T15:59:05.231098Z",
     "end_time": "2023-11-10T15:59:05.244128Z"
    }
   }
  },
  {
   "cell_type": "code",
   "execution_count": 9,
   "outputs": [],
   "source": [
    "demo_loader = torch.utils.data.DataLoader(training_dataset, batch_size=10)\n",
    "\n",
    "batch = next(iter(demo_loader))\n",
    "images, labels = batch"
   ],
   "metadata": {
    "collapsed": false,
    "ExecuteTime": {
     "start_time": "2023-11-10T15:59:05.234563Z",
     "end_time": "2023-11-10T15:59:05.244156Z"
    }
   }
  },
  {
   "cell_type": "code",
   "execution_count": 10,
   "outputs": [
    {
     "name": "stdout",
     "output_type": "stream",
     "text": [
      "labels:  Ankle Boot, T-shirt/Top, T-shirt/Top, Dress, T-shirt/Top, Pullover, Sneaker, Pullover, Sandal, Sandal, "
     ]
    },
    {
     "data": {
      "text/plain": "<Figure size 1500x2000 with 1 Axes>",
      "image/png": "[encoded data removed]"
     },
     "metadata": {},
     "output_type": "display_data"
    }
   ],
   "source": [
    "grid = torchvision.utils.make_grid(images, nrow=10)\n",
    "\n",
    "plt.figure(figsize=(15, 20))\n",
    "plt.imshow(np.transpose(grid, (1, 2, 0)))\n",
    "print(\"labels: \", end=\" \")\n",
    "for i, label in enumerate(labels):\n",
    "    print(output_label(label), end=\", \")"
   ],
   "metadata": {
    "collapsed": false,
    "ExecuteTime": {
     "start_time": "2023-11-10T15:59:05.239072Z",
     "end_time": "2023-11-10T15:59:05.334966Z"
    }
   }
  },
  {
   "cell_type": "markdown",
   "source": [
    "## Model"
   ],
   "metadata": {
    "collapsed": false
   }
  },
  {
   "cell_type": "code",
   "execution_count": 11,
   "outputs": [],
   "source": [
    "class TinyVGG(nn.Module):\n",
    "    \"\"\"\n",
    "    A small VGG-like network for image classification.\n",
    "\n",
    "    Args:\n",
    "        in_channels (int): The number of input channels.\n",
    "        n_classes (int): The number of output classes.\n",
    "        hidden_units (int): The number of hidden units in each convolutional block.\n",
    "        n_conv_blocks (int): The number of convolutional blocks.\n",
    "        dropout (float): The dropout rate.\n",
    "    \"\"\"\n",
    "\n",
    "    def __init__(self, in_channels, n_classes, hidden_units, n_conv_blocks, dropout):\n",
    "        super().__init__()\n",
    "        self.in_channels = in_channels\n",
    "        self.out_features = n_classes\n",
    "        self.dropout = dropout\n",
    "        self.hidden_units = hidden_units\n",
    "\n",
    "        # Input block\n",
    "        self.input_block = nn.Sequential(\n",
    "            nn.Conv2d(in_channels=in_channels, out_channels=hidden_units, kernel_size=3, padding=0, stride=1),\n",
    "            nn.Dropout(dropout),\n",
    "            nn.ReLU(),\n",
    "        )\n",
    "\n",
    "        # Convolutional blocks\n",
    "        self.conv_blocks = nn.ModuleList([\n",
    "            nn.Sequential(\n",
    "                nn.Conv2d(in_channels=hidden_units, out_channels=hidden_units, kernel_size=3, padding=0, stride=1),\n",
    "                nn.Dropout(dropout),\n",
    "                nn.ReLU(),\n",
    "                nn.MaxPool2d(kernel_size=2, stride=2),\n",
    "            ) for _ in range(n_conv_blocks)\n",
    "        ])\n",
    "\n",
    "        # Classifier\n",
    "        self.classifier = nn.Sequential(\n",
    "            nn.Flatten(),\n",
    "            nn.LazyLinear(out_features=256),\n",
    "            nn.Dropout(dropout),\n",
    "            nn.Linear(in_features=256, out_features=64),\n",
    "            nn.Linear(in_features=64, out_features=n_classes),\n",
    "        )\n",
    "\n",
    "    def forward(self, x):\n",
    "        \"\"\"\n",
    "        Forward pass of the network.\n",
    "\n",
    "        Args:\n",
    "            x (torch.Tensor): The input tensor.\n",
    "\n",
    "        Returns:\n",
    "            torch.Tensor: The output tensor.\n",
    "        \"\"\"\n",
    "\n",
    "        x = self.input_block(x)\n",
    "        for conv_block in self.conv_blocks:\n",
    "            x = conv_block(x)\n",
    "        x = self.classifier(x)\n",
    "        return x"
   ],
   "metadata": {
    "collapsed": false,
    "ExecuteTime": {
     "start_time": "2023-11-10T15:59:05.338499Z",
     "end_time": "2023-11-10T15:59:05.340837Z"
    }
   }
  },
  {
   "cell_type": "markdown",
   "source": [
    "## Training and test step functions"
   ],
   "metadata": {
    "collapsed": false
   }
  },
  {
   "cell_type": "code",
   "execution_count": 12,
   "outputs": [],
   "source": [
    "def train_step(dataloader, model, optimizer, criterion, device, train_acc_metric):\n",
    "    \"\"\"\n",
    "    Perform a single training step.\n",
    "\n",
    "    Args:\n",
    "        dataloader (torch.utils.data.DataLoader): The dataloader for the training data.\n",
    "        model (torch.nn.Module): The model to train.\n",
    "        optimizer (torch.optim.Optimizer): The optimizer for the model.\n",
    "        criterion (torch.nn.Module): The loss function for the model.\n",
    "        device (torch.device): The device to train the model on.\n",
    "        train_acc_metric (torchmetrics.Accuracy): The accuracy metric for the model.\n",
    "\n",
    "    Returns:\n",
    "        The accuracy of the model on the training data.\n",
    "    \"\"\"\n",
    "\n",
    "    for (X, y) in tqdm(dataloader):\n",
    "        # Move the data to the device.\n",
    "        X = X.to(device)\n",
    "        y = y.to(device)\n",
    "\n",
    "        # Forward pass.\n",
    "        y_preds = model(X)\n",
    "\n",
    "        # Calculate the loss.\n",
    "        loss = criterion(y_preds, y)\n",
    "\n",
    "        # Calculate the accuracy.\n",
    "        train_acc_metric.update(y_preds, y)\n",
    "\n",
    "        # Backpropagate the loss.\n",
    "        loss.backward()\n",
    "\n",
    "        # Update the parameters.\n",
    "        optimizer.step()\n",
    "\n",
    "        # Zero the gradients.\n",
    "        optimizer.zero_grad()\n",
    "\n",
    "    return train_acc_metric.compute()"
   ],
   "metadata": {
    "collapsed": false,
    "ExecuteTime": {
     "start_time": "2023-11-10T15:59:05.342123Z",
     "end_time": "2023-11-10T15:59:05.345227Z"
    }
   }
  },
  {
   "cell_type": "code",
   "execution_count": 13,
   "outputs": [],
   "source": [
    "def test_step(dataloader, model, device, test_acc_metric):\n",
    "    \"\"\"\n",
    "    Perform a single test step.\n",
    "\n",
    "    Args:\n",
    "        dataloader (torch.utils.data.DataLoader): The dataloader for the test data.\n",
    "        model (torch.nn.Module): The model to test.\n",
    "        device (torch.device): The device to test the model on.\n",
    "        test_acc_metric (torchmetrics.Accuracy): The accuracy metric for the model.\n",
    "\n",
    "    Returns:\n",
    "        The accuracy of the model on the test data.\n",
    "    \"\"\"\n",
    "\n",
    "    for (X, y) in tqdm(dataloader):\n",
    "        # Move the data to the device.\n",
    "        X = X.to(device)\n",
    "        y = y.to(device)\n",
    "\n",
    "        # Forward pass.\n",
    "        y_preds = model(X)\n",
    "\n",
    "        # Calculate the accuracy.\n",
    "        test_acc_metric.update(y_preds, y)\n",
    "\n",
    "    return test_acc_metric.compute()"
   ],
   "metadata": {
    "collapsed": false,
    "ExecuteTime": {
     "start_time": "2023-11-10T15:59:05.346901Z",
     "end_time": "2023-11-10T15:59:05.348879Z"
    }
   }
  },
  {
   "cell_type": "markdown",
   "source": [
    "## TensorBoard Summary Writer"
   ],
   "metadata": {
    "collapsed": false
   }
  },
  {
   "cell_type": "code",
   "execution_count": 14,
   "outputs": [],
   "source": [
    "def create_writer(\n",
    "    experiment_name: str, model_name: str, conv_layers, dropout, hidden_units, learning_rate, optimizer_name\n",
    ") -> SummaryWriter:\n",
    "    \"\"\"\n",
    "    Create a SummaryWriter object for logging the training and test results.\n",
    "\n",
    "    Args:\n",
    "        experiment_name (str): The name of the experiment.\n",
    "        model_name (str): The name of the model.\n",
    "        conv_layers (int): The number of convolutional layers in the model.\n",
    "        dropout (float): The dropout rate used in the model.\n",
    "        hidden_units (int): The number of hidden units in the model.\n",
    "\n",
    "    Returns:\n",
    "        SummaryWriter: The SummaryWriter object.\n",
    "    \"\"\"\n",
    "\n",
    "    timestamp = str(datetime.now().strftime(\"%d-%m-%Y_%H-%M-%S\"))\n",
    "    log_dir = os.path.join(\n",
    "        \"runs\",\n",
    "        timestamp,\n",
    "        experiment_name,\n",
    "        model_name,\n",
    "        f\"convlayers_{conv_layers}\",\n",
    "        f\"dropout_{dropout}\",\n",
    "        f\"hid_unit{hidden_units}\",\n",
    "        f\"lr_{learning_rate}\",\n",
    "        f\"optimizer_{optimizer_name}\",\n",
    "    ).replace(\"\\\\\", \"/\")\n",
    "    return SummaryWriter(log_dir=log_dir)"
   ],
   "metadata": {
    "collapsed": false,
    "ExecuteTime": {
     "start_time": "2023-11-10T15:59:05.352682Z",
     "end_time": "2023-11-10T15:59:05.416665Z"
    }
   }
  },
  {
   "cell_type": "markdown",
   "source": [
    "## Hyperparameters automatic search"
   ],
   "metadata": {
    "collapsed": false
   }
  },
  {
   "cell_type": "code",
   "execution_count": 15,
   "outputs": [],
   "source": [
    "EPOCHS = 5"
   ],
   "metadata": {
    "collapsed": false,
    "ExecuteTime": {
     "start_time": "2023-11-10T15:59:05.355333Z",
     "end_time": "2023-11-10T15:59:05.416869Z"
    }
   }
  },
  {
   "cell_type": "code",
   "execution_count": 16,
   "outputs": [
    {
     "name": "stdout",
     "output_type": "stream",
     "text": [
      "Total number of combinations: 16\n"
     ]
    }
   ],
   "source": [
    "\"\"\"\n",
    "The hyperparameters that are tuned are the number of convolutional layers, the dropout rate, the number of hidden units, learning rate, and the optimizer.\n",
    "\"\"\"\n",
    "\n",
    "# Hyperparameters to try out\n",
    "hparams_config = {\n",
    "    \"n_conv_layers\": [1, 2, 3],\n",
    "    \"dropout\": [0.0, 0.25, 0.5],\n",
    "    \"hidden_units\": [128, 256, 512],\n",
    "    \"learning_rate\": [ 0.0007, 0.001, 0.0015],\n",
    "    \"optimizers\": ['Adam', 'SGD']\n",
    "}\n",
    "\n",
    "# Hyperparameters to try out\n",
    "hparams_config = {\n",
    "    \"n_conv_layers\": [1, 2],\n",
    "    \"dropout\": [0, 0.25],\n",
    "    \"hidden_units\": [128, 256],\n",
    "    \"learning_rate\": [ 0.0007, 0.001],\n",
    "    \"optimizers\": ['Adam']\n",
    "}\n",
    "\n",
    "# Calculate the total number of combinations\n",
    "total_combinations = 1\n",
    "for key, values in hparams_config.items():\n",
    "    total_combinations *= len(values)\n",
    "\n",
    "print(\"Total number of combinations:\", total_combinations)"
   ],
   "metadata": {
    "collapsed": false,
    "ExecuteTime": {
     "start_time": "2023-11-10T15:59:05.359462Z",
     "end_time": "2023-11-10T15:59:05.417053Z"
    }
   }
  },
  {
   "cell_type": "code",
   "execution_count": 17,
   "outputs": [
    {
     "name": "stdout",
     "output_type": "stream",
     "text": [
      "\n",
      "Tuning Hyper Parameters || Conv Layers: 1 || Dropout: 0 || Hidden Units: 128 || Learnin rate: 0.0007 || Optimizer: Adam\n",
      "\n"
     ]
    },
    {
     "name": "stderr",
     "output_type": "stream",
     "text": [
      "/Library/Python/3.9/site-packages/torch/nn/modules/lazy.py:180: UserWarning: Lazy modules are a new feature under heavy development so changes to the API or functionality can happen at any moment.\n",
      "  warnings.warn('Lazy modules are a new feature under heavy development '\n",
      "100%|██████████| 600/600 [00:19<00:00, 30.46it/s]\n",
      "100%|██████████| 100/100 [00:01<00:00, 56.33it/s]\n",
      "100%|██████████| 600/600 [00:15<00:00, 39.53it/s]\n",
      "100%|██████████| 100/100 [00:01<00:00, 65.83it/s]\n",
      "100%|██████████| 600/600 [00:15<00:00, 39.50it/s]\n",
      "100%|██████████| 100/100 [00:01<00:00, 67.18it/s]\n",
      "100%|██████████| 600/600 [00:15<00:00, 38.94it/s]\n",
      "100%|██████████| 100/100 [00:01<00:00, 59.70it/s]\n",
      "100%|██████████| 600/600 [00:15<00:00, 39.16it/s]\n",
      "100%|██████████| 100/100 [00:01<00:00, 59.39it/s]\n"
     ]
    },
    {
     "name": "stdout",
     "output_type": "stream",
     "text": [
      "\n",
      "Tuning Hyper Parameters || Conv Layers: 1 || Dropout: 0 || Hidden Units: 128 || Learnin rate: 0.001 || Optimizer: Adam\n",
      "\n"
     ]
    },
    {
     "name": "stderr",
     "output_type": "stream",
     "text": [
      "100%|██████████| 600/600 [00:15<00:00, 38.90it/s]\n",
      "100%|██████████| 100/100 [00:01<00:00, 59.89it/s]\n",
      "100%|██████████| 600/600 [00:15<00:00, 39.33it/s]\n",
      "100%|██████████| 100/100 [00:01<00:00, 64.79it/s]\n",
      "100%|██████████| 600/600 [00:15<00:00, 39.00it/s]\n",
      "100%|██████████| 100/100 [00:01<00:00, 59.41it/s]\n",
      "100%|██████████| 600/600 [00:15<00:00, 39.37it/s]\n",
      "100%|██████████| 100/100 [00:01<00:00, 57.55it/s]\n",
      "100%|██████████| 600/600 [00:15<00:00, 38.84it/s]\n",
      "100%|██████████| 100/100 [00:01<00:00, 58.64it/s]\n"
     ]
    },
    {
     "name": "stdout",
     "output_type": "stream",
     "text": [
      "\n",
      "Tuning Hyper Parameters || Conv Layers: 1 || Dropout: 0 || Hidden Units: 256 || Learnin rate: 0.0007 || Optimizer: Adam\n",
      "\n"
     ]
    },
    {
     "name": "stderr",
     "output_type": "stream",
     "text": [
      "100%|██████████| 600/600 [00:51<00:00, 11.69it/s]\n",
      "100%|██████████| 100/100 [00:02<00:00, 35.41it/s]\n",
      "100%|██████████| 600/600 [00:49<00:00, 12.14it/s]\n",
      "100%|██████████| 100/100 [00:03<00:00, 29.80it/s]\n",
      "100%|██████████| 600/600 [00:49<00:00, 12.06it/s]\n",
      "100%|██████████| 100/100 [00:03<00:00, 30.57it/s]\n",
      "100%|██████████| 600/600 [00:49<00:00, 12.14it/s]\n",
      "100%|██████████| 100/100 [00:02<00:00, 36.78it/s]\n",
      "100%|██████████| 600/600 [00:49<00:00, 12.01it/s]\n",
      "100%|██████████| 100/100 [00:03<00:00, 29.83it/s]\n"
     ]
    },
    {
     "name": "stdout",
     "output_type": "stream",
     "text": [
      "\n",
      "Tuning Hyper Parameters || Conv Layers: 1 || Dropout: 0 || Hidden Units: 256 || Learnin rate: 0.001 || Optimizer: Adam\n",
      "\n"
     ]
    },
    {
     "name": "stderr",
     "output_type": "stream",
     "text": [
      "100%|██████████| 600/600 [00:50<00:00, 11.91it/s]\n",
      "100%|██████████| 100/100 [00:02<00:00, 36.29it/s]\n",
      "100%|██████████| 600/600 [00:50<00:00, 11.78it/s]\n",
      "100%|██████████| 100/100 [00:02<00:00, 36.82it/s]\n",
      "100%|██████████| 600/600 [00:50<00:00, 11.87it/s]\n",
      "100%|██████████| 100/100 [00:02<00:00, 36.97it/s]\n",
      "100%|██████████| 600/600 [00:49<00:00, 12.21it/s]\n",
      "100%|██████████| 100/100 [00:03<00:00, 29.12it/s]\n",
      "100%|██████████| 600/600 [00:50<00:00, 11.96it/s]\n",
      "100%|██████████| 100/100 [00:02<00:00, 36.77it/s]\n"
     ]
    },
    {
     "name": "stdout",
     "output_type": "stream",
     "text": [
      "\n",
      "Tuning Hyper Parameters || Conv Layers: 1 || Dropout: 0.25 || Hidden Units: 128 || Learnin rate: 0.0007 || Optimizer: Adam\n",
      "\n"
     ]
    },
    {
     "name": "stderr",
     "output_type": "stream",
     "text": [
      "100%|██████████| 600/600 [00:18<00:00, 32.80it/s]\n",
      "100%|██████████| 100/100 [00:01<00:00, 50.89it/s]\n",
      "100%|██████████| 600/600 [00:18<00:00, 32.81it/s]\n",
      "100%|██████████| 100/100 [00:02<00:00, 48.50it/s]\n",
      "100%|██████████| 600/600 [00:18<00:00, 32.83it/s]\n",
      "100%|██████████| 100/100 [00:02<00:00, 44.40it/s]\n",
      "100%|██████████| 600/600 [00:18<00:00, 33.27it/s]\n",
      "100%|██████████| 100/100 [00:02<00:00, 45.21it/s]\n",
      "100%|██████████| 600/600 [00:17<00:00, 33.48it/s]\n",
      "100%|██████████| 100/100 [00:02<00:00, 44.59it/s]\n"
     ]
    },
    {
     "name": "stdout",
     "output_type": "stream",
     "text": [
      "\n",
      "Tuning Hyper Parameters || Conv Layers: 1 || Dropout: 0.25 || Hidden Units: 128 || Learnin rate: 0.001 || Optimizer: Adam\n",
      "\n"
     ]
    },
    {
     "name": "stderr",
     "output_type": "stream",
     "text": [
      "100%|██████████| 600/600 [00:17<00:00, 33.38it/s]\n",
      "100%|██████████| 100/100 [00:02<00:00, 48.08it/s]\n",
      "100%|██████████| 600/600 [00:17<00:00, 33.70it/s]\n",
      "100%|██████████| 100/100 [00:01<00:00, 53.61it/s]\n",
      "100%|██████████| 600/600 [00:17<00:00, 33.71it/s]\n",
      "100%|██████████| 100/100 [00:01<00:00, 54.54it/s]\n",
      "100%|██████████| 600/600 [00:17<00:00, 33.51it/s]\n",
      "100%|██████████| 100/100 [00:02<00:00, 46.11it/s]\n",
      "100%|██████████| 600/600 [00:17<00:00, 33.42it/s]\n",
      "100%|██████████| 100/100 [00:02<00:00, 45.92it/s]\n"
     ]
    },
    {
     "name": "stdout",
     "output_type": "stream",
     "text": [
      "\n",
      "Tuning Hyper Parameters || Conv Layers: 1 || Dropout: 0.25 || Hidden Units: 256 || Learnin rate: 0.0007 || Optimizer: Adam\n",
      "\n"
     ]
    },
    {
     "name": "stderr",
     "output_type": "stream",
     "text": [
      "100%|██████████| 600/600 [00:56<00:00, 10.53it/s]\n",
      "100%|██████████| 100/100 [00:03<00:00, 26.66it/s]\n",
      "100%|██████████| 600/600 [00:57<00:00, 10.42it/s]\n",
      "100%|██████████| 100/100 [00:03<00:00, 28.14it/s]\n",
      "100%|██████████| 600/600 [00:57<00:00, 10.48it/s]\n",
      "100%|██████████| 100/100 [00:03<00:00, 28.85it/s]\n",
      "100%|██████████| 600/600 [00:57<00:00, 10.51it/s]\n",
      "100%|██████████| 100/100 [00:03<00:00, 28.90it/s]\n",
      "100%|██████████| 600/600 [00:57<00:00, 10.49it/s]\n",
      "100%|██████████| 100/100 [00:03<00:00, 28.89it/s]\n"
     ]
    },
    {
     "name": "stdout",
     "output_type": "stream",
     "text": [
      "\n",
      "Tuning Hyper Parameters || Conv Layers: 1 || Dropout: 0.25 || Hidden Units: 256 || Learnin rate: 0.001 || Optimizer: Adam\n",
      "\n"
     ]
    },
    {
     "name": "stderr",
     "output_type": "stream",
     "text": [
      "100%|██████████| 600/600 [00:57<00:00, 10.43it/s]\n",
      "100%|██████████| 100/100 [00:03<00:00, 29.13it/s]\n",
      "100%|██████████| 600/600 [00:57<00:00, 10.48it/s]\n",
      "100%|██████████| 100/100 [00:03<00:00, 29.02it/s]\n",
      "100%|██████████| 600/600 [00:57<00:00, 10.47it/s]\n",
      "100%|██████████| 100/100 [00:03<00:00, 28.34it/s]\n",
      "100%|██████████| 600/600 [00:55<00:00, 10.82it/s]\n",
      "100%|██████████| 100/100 [00:03<00:00, 28.53it/s]\n",
      "100%|██████████| 600/600 [00:56<00:00, 10.71it/s]\n",
      "100%|██████████| 100/100 [00:03<00:00, 28.71it/s]\n"
     ]
    },
    {
     "name": "stdout",
     "output_type": "stream",
     "text": [
      "\n",
      "Tuning Hyper Parameters || Conv Layers: 2 || Dropout: 0 || Hidden Units: 128 || Learnin rate: 0.0007 || Optimizer: Adam\n",
      "\n"
     ]
    },
    {
     "name": "stderr",
     "output_type": "stream",
     "text": [
      "100%|██████████| 600/600 [00:17<00:00, 33.46it/s]\n",
      "100%|██████████| 100/100 [00:01<00:00, 54.69it/s]\n",
      "100%|██████████| 600/600 [00:16<00:00, 37.47it/s]\n",
      "100%|██████████| 100/100 [00:01<00:00, 52.38it/s]\n",
      "100%|██████████| 600/600 [00:15<00:00, 37.62it/s]\n",
      "100%|██████████| 100/100 [00:01<00:00, 54.08it/s]\n",
      "100%|██████████| 600/600 [00:15<00:00, 37.84it/s]\n",
      "100%|██████████| 100/100 [00:01<00:00, 80.54it/s]\n",
      "100%|██████████| 600/600 [00:15<00:00, 37.72it/s]\n",
      "100%|██████████| 100/100 [00:01<00:00, 79.66it/s]\n"
     ]
    },
    {
     "name": "stdout",
     "output_type": "stream",
     "text": [
      "\n",
      "Tuning Hyper Parameters || Conv Layers: 2 || Dropout: 0 || Hidden Units: 128 || Learnin rate: 0.001 || Optimizer: Adam\n",
      "\n"
     ]
    },
    {
     "name": "stderr",
     "output_type": "stream",
     "text": [
      "100%|██████████| 600/600 [00:15<00:00, 37.73it/s]\n",
      "100%|██████████| 100/100 [00:01<00:00, 79.41it/s]\n",
      "100%|██████████| 600/600 [00:16<00:00, 36.99it/s]\n",
      "100%|██████████| 100/100 [00:01<00:00, 77.32it/s]\n",
      "100%|██████████| 600/600 [00:15<00:00, 37.60it/s]\n",
      "100%|██████████| 100/100 [00:01<00:00, 78.98it/s]\n",
      "100%|██████████| 600/600 [00:15<00:00, 37.90it/s]\n",
      "100%|██████████| 100/100 [00:01<00:00, 79.65it/s]\n",
      "100%|██████████| 600/600 [00:15<00:00, 37.68it/s]\n",
      "100%|██████████| 100/100 [00:01<00:00, 80.35it/s]\n"
     ]
    },
    {
     "name": "stdout",
     "output_type": "stream",
     "text": [
      "\n",
      "Tuning Hyper Parameters || Conv Layers: 2 || Dropout: 0 || Hidden Units: 256 || Learnin rate: 0.0007 || Optimizer: Adam\n",
      "\n"
     ]
    },
    {
     "name": "stderr",
     "output_type": "stream",
     "text": [
      "100%|██████████| 600/600 [00:54<00:00, 10.96it/s]\n",
      "100%|██████████| 100/100 [00:02<00:00, 33.83it/s]\n",
      "100%|██████████| 600/600 [00:51<00:00, 11.54it/s]\n",
      "100%|██████████| 100/100 [00:03<00:00, 30.15it/s]\n",
      "100%|██████████| 600/600 [00:51<00:00, 11.70it/s]\n",
      "100%|██████████| 100/100 [00:02<00:00, 35.83it/s]\n",
      "100%|██████████| 600/600 [00:53<00:00, 11.31it/s]\n",
      "100%|██████████| 100/100 [00:02<00:00, 40.18it/s]\n",
      "100%|██████████| 600/600 [00:52<00:00, 11.32it/s]\n",
      "100%|██████████| 100/100 [00:02<00:00, 40.03it/s]\n"
     ]
    },
    {
     "name": "stdout",
     "output_type": "stream",
     "text": [
      "\n",
      "Tuning Hyper Parameters || Conv Layers: 2 || Dropout: 0 || Hidden Units: 256 || Learnin rate: 0.001 || Optimizer: Adam\n",
      "\n"
     ]
    },
    {
     "name": "stderr",
     "output_type": "stream",
     "text": [
      "100%|██████████| 600/600 [00:53<00:00, 11.24it/s]\n",
      "100%|██████████| 100/100 [00:02<00:00, 40.29it/s]\n",
      "100%|██████████| 600/600 [00:52<00:00, 11.39it/s]\n",
      "100%|██████████| 100/100 [00:02<00:00, 40.12it/s]\n",
      "100%|██████████| 600/600 [00:52<00:00, 11.42it/s]\n",
      "100%|██████████| 100/100 [00:02<00:00, 40.15it/s]\n",
      "100%|██████████| 600/600 [00:53<00:00, 11.31it/s]\n",
      "100%|██████████| 100/100 [00:03<00:00, 30.73it/s]\n",
      "100%|██████████| 600/600 [00:51<00:00, 11.73it/s]\n",
      "100%|██████████| 100/100 [00:02<00:00, 37.08it/s]\n"
     ]
    },
    {
     "name": "stdout",
     "output_type": "stream",
     "text": [
      "\n",
      "Tuning Hyper Parameters || Conv Layers: 2 || Dropout: 0.25 || Hidden Units: 128 || Learnin rate: 0.0007 || Optimizer: Adam\n",
      "\n"
     ]
    },
    {
     "name": "stderr",
     "output_type": "stream",
     "text": [
      "100%|██████████| 600/600 [00:19<00:00, 31.28it/s]\n",
      "100%|██████████| 100/100 [00:02<00:00, 37.88it/s]\n",
      "100%|██████████| 600/600 [00:19<00:00, 31.13it/s]\n",
      "100%|██████████| 100/100 [00:02<00:00, 39.69it/s]\n",
      "100%|██████████| 600/600 [00:19<00:00, 30.75it/s]\n",
      "100%|██████████| 100/100 [00:02<00:00, 42.52it/s]\n",
      "100%|██████████| 600/600 [00:19<00:00, 30.82it/s]\n",
      "100%|██████████| 100/100 [00:02<00:00, 40.18it/s]\n",
      "100%|██████████| 600/600 [00:19<00:00, 30.74it/s]\n",
      "100%|██████████| 100/100 [00:02<00:00, 38.41it/s]\n"
     ]
    },
    {
     "name": "stdout",
     "output_type": "stream",
     "text": [
      "\n",
      "Tuning Hyper Parameters || Conv Layers: 2 || Dropout: 0.25 || Hidden Units: 128 || Learnin rate: 0.001 || Optimizer: Adam\n",
      "\n"
     ]
    },
    {
     "name": "stderr",
     "output_type": "stream",
     "text": [
      "100%|██████████| 600/600 [00:19<00:00, 31.16it/s]\n",
      "100%|██████████| 100/100 [00:02<00:00, 37.94it/s]\n",
      "100%|██████████| 600/600 [00:19<00:00, 31.19it/s]\n",
      "100%|██████████| 100/100 [00:02<00:00, 36.19it/s]\n",
      "100%|██████████| 600/600 [00:19<00:00, 31.45it/s]\n",
      "100%|██████████| 100/100 [00:02<00:00, 36.79it/s]\n",
      "100%|██████████| 600/600 [00:19<00:00, 31.30it/s]\n",
      "100%|██████████| 100/100 [00:02<00:00, 37.12it/s]\n",
      "100%|██████████| 600/600 [00:19<00:00, 31.17it/s]\n",
      "100%|██████████| 100/100 [00:02<00:00, 37.55it/s]\n"
     ]
    },
    {
     "name": "stdout",
     "output_type": "stream",
     "text": [
      "\n",
      "Tuning Hyper Parameters || Conv Layers: 2 || Dropout: 0.25 || Hidden Units: 256 || Learnin rate: 0.0007 || Optimizer: Adam\n",
      "\n"
     ]
    },
    {
     "name": "stderr",
     "output_type": "stream",
     "text": [
      "100%|██████████| 600/600 [00:58<00:00, 10.22it/s]\n",
      "100%|██████████| 100/100 [00:03<00:00, 29.93it/s]\n",
      "100%|██████████| 600/600 [00:58<00:00, 10.27it/s]\n",
      "100%|██████████| 100/100 [00:03<00:00, 30.47it/s]\n",
      "100%|██████████| 600/600 [00:58<00:00, 10.23it/s]\n",
      "100%|██████████| 100/100 [00:03<00:00, 30.47it/s]\n",
      "100%|██████████| 600/600 [00:58<00:00, 10.23it/s]\n",
      "100%|██████████| 100/100 [00:03<00:00, 30.09it/s]\n",
      "100%|██████████| 600/600 [00:58<00:00, 10.23it/s]\n",
      "100%|██████████| 100/100 [00:03<00:00, 30.69it/s]\n"
     ]
    },
    {
     "name": "stdout",
     "output_type": "stream",
     "text": [
      "\n",
      "Tuning Hyper Parameters || Conv Layers: 2 || Dropout: 0.25 || Hidden Units: 256 || Learnin rate: 0.001 || Optimizer: Adam\n",
      "\n"
     ]
    },
    {
     "name": "stderr",
     "output_type": "stream",
     "text": [
      "100%|██████████| 600/600 [01:01<00:00,  9.71it/s]\n",
      "100%|██████████| 100/100 [00:03<00:00, 28.82it/s]\n",
      "100%|██████████| 600/600 [01:02<00:00,  9.63it/s]\n",
      "100%|██████████| 100/100 [00:03<00:00, 30.73it/s]\n",
      "100%|██████████| 600/600 [00:59<00:00, 10.08it/s]\n",
      "100%|██████████| 100/100 [00:03<00:00, 30.60it/s]\n",
      "100%|██████████| 600/600 [01:00<00:00,  9.98it/s]\n",
      "100%|██████████| 100/100 [00:03<00:00, 30.85it/s]\n",
      "100%|██████████| 600/600 [01:00<00:00,  9.92it/s]\n",
      "100%|██████████| 100/100 [00:03<00:00, 29.23it/s]\n"
     ]
    }
   ],
   "source": [
    "\"\"\"\n",
    "This code performs hyperparameter tuning for a TinyVGG model.\n",
    "\n",
    "The hyperparameters that are tuned are the number of convolutional layers, the dropout rate, and the number of hidden units.\n",
    "\n",
    "The results of the hyperparameter tuning are logged to a TensorBoard file.\n",
    "\"\"\"\n",
    "\n",
    "os.environ['PYTORCH_MPS_HIGH_WATERMARK_RATIO'] = '0.0'\n",
    "experiment_number = 0\n",
    "\n",
    "for n_conv_layers in hparams_config[\"n_conv_layers\"]:\n",
    "    for dropout in hparams_config[\"dropout\"]:\n",
    "        for hidden_units in hparams_config[\"hidden_units\"]:\n",
    "            for learning_rate in hparams_config[\"learning_rate\"]:\n",
    "                for optimizer_name in hparams_config[\"optimizers\"]:\n",
    "                    experiment_number += 1\n",
    "                    print(\n",
    "                        f\"\\nTuning Hyper Parameters || Conv Layers: {n_conv_layers} || Dropout: {dropout} || Hidden Units: {hidden_units} || Learnin rate: {learning_rate} || Optimizer: {optimizer_name}\\n\"\n",
    "                    )\n",
    "\n",
    "                    # Create the model and move it to the device\n",
    "                    model = TinyVGG(\n",
    "                        in_channels=1,\n",
    "                        n_classes=len(training_dataset.classes),\n",
    "                        hidden_units=hidden_units,\n",
    "                        n_conv_blocks=n_conv_layers,\n",
    "                        dropout=dropout,\n",
    "                    ).to(device)\n",
    "\n",
    "                    # Create the optimizer and loss function\n",
    "                    if optimizer_name == 'Adam':\n",
    "                        optimizer = torch.optim.Adam(params=model.parameters(), lr=learning_rate)\n",
    "                    elif optimizer_name == 'SGD':\n",
    "                        optimizer = torch.optim.SGD(params=model.parameters(), lr=learning_rate)\n",
    "                    else:\n",
    "                        optimizer = None\n",
    "                    criterion = torch.nn.CrossEntropyLoss()\n",
    "\n",
    "                    # Create the accuracy metrics\n",
    "                    train_acc_metric = torchmetrics.Accuracy(\n",
    "                        task=\"multiclass\", num_classes=len(training_dataset.classes)\n",
    "                    ).to(device)\n",
    "                    test_acc_metric = torchmetrics.Accuracy(\n",
    "                        task=\"multiclass\", num_classes=len(training_dataset.classes)\n",
    "                    ).to(device)\n",
    "\n",
    "                    # Create the TensorBoard writer\n",
    "                    writer = create_writer(\n",
    "                        experiment_name=f\"{experiment_number}\",\n",
    "                        model_name=\"tiny_vgg\",\n",
    "                        conv_layers=n_conv_layers,\n",
    "                        dropout=dropout,\n",
    "                        hidden_units=hidden_units,\n",
    "                        learning_rate=learning_rate,\n",
    "                        optimizer_name=optimizer_name,\n",
    "                    )\n",
    "\n",
    "                    # Start measuring the training time\n",
    "                    start_time = time.time()\n",
    "\n",
    "                    # Train the model\n",
    "                    for epoch in range(EPOCHS):\n",
    "                        train_step(\n",
    "                            train_loader,\n",
    "                            model,\n",
    "                            optimizer,\n",
    "                            criterion,\n",
    "                            device,\n",
    "                            train_acc_metric,\n",
    "                        )\n",
    "                        test_step(test_loader, model, device, test_acc_metric)\n",
    "                        writer.add_scalar(\n",
    "                            tag=\"Training Accuracy\",\n",
    "                            scalar_value=train_acc_metric.compute(),\n",
    "                            global_step=epoch,\n",
    "                        )\n",
    "                        writer.add_scalar(\n",
    "                            tag=\"Test Accuracy\",\n",
    "                            scalar_value=test_acc_metric.compute(),\n",
    "                            global_step=epoch,\n",
    "                        )\n",
    "\n",
    "                    # Calculate and log the total training time\n",
    "                    total_training_time = time.time() - start_time\n",
    "                    writer.add_scalar('Training/TotalTrainingTime', total_training_time)\n",
    "\n",
    "                    # Add the hyperparameters and metrics to TensorBoard\n",
    "                    writer.add_hparams(\n",
    "                        {\n",
    "                            \"conv_layers\": n_conv_layers,\n",
    "                            \"dropout\": dropout,\n",
    "                            \"hidden_units\": hidden_units,\n",
    "                            \"learning_rate\": learning_rate,\n",
    "                            \"optimizer\": optimizer_name,\n",
    "                        },\n",
    "                        {\n",
    "                            \"train_acc\": train_acc_metric.compute(),\n",
    "                            \"test_acc\": test_acc_metric.compute(),\n",
    "                            \"total_training_time\": total_training_time,\n",
    "                        },\n",
    "                    )"
   ],
   "metadata": {
    "collapsed": false,
    "ExecuteTime": {
     "start_time": "2023-11-10T15:59:05.397760Z",
     "end_time": "2023-11-10T16:50:38.651028Z"
    }
   }
  },
  {
   "cell_type": "code",
   "execution_count": 18,
   "outputs": [
    {
     "data": {
      "text/plain": "Launching TensorBoard..."
     },
     "metadata": {},
     "output_type": "display_data"
    }
   ],
   "source": [
    "%load_ext tensorboard\n",
    "%tensorboard --logdir=runs"
   ],
   "metadata": {
    "collapsed": false,
    "ExecuteTime": {
     "start_time": "2023-11-10T16:50:38.669015Z",
     "end_time": "2023-11-10T16:50:43.302121Z"
    }
   }
  },
  {
   "cell_type": "markdown",
   "source": [
    "## Accuracy in each class of FashionMNIST dataset"
   ],
   "metadata": {
    "collapsed": false
   }
  },
  {
   "cell_type": "code",
   "execution_count": 18,
   "outputs": [],
   "source": [],
   "metadata": {
    "collapsed": false,
    "ExecuteTime": {
     "start_time": "2023-11-10T16:50:43.302717Z",
     "end_time": "2023-11-10T16:50:43.305063Z"
    }
   }
  },
  {
   "cell_type": "code",
   "execution_count": 18,
   "outputs": [],
   "source": [],
   "metadata": {
    "collapsed": false,
    "ExecuteTime": {
     "start_time": "2023-11-10T16:50:43.306370Z",
     "end_time": "2023-11-10T16:50:43.308906Z"
    }
   }
  }
 ],
 "metadata": {
  "kernelspec": {
   "display_name": "Python 3 (ipykernel)",
   "language": "python",
   "name": "python3"
  },
  "language_info": {
   "codemirror_mode": {
    "name": "ipython",
    "version": 3
   },
   "file_extension": ".py",
   "mimetype": "text/x-python",
   "name": "python",
   "nbconvert_exporter": "python",
   "pygments_lexer": "ipython3",
   "version": "3.10.6"
  }
 },
 "nbformat": 4,
 "nbformat_minor": 5
}
